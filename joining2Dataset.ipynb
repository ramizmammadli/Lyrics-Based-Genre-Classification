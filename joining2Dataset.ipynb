{
 "cells": [
  {
   "cell_type": "code",
   "execution_count": 1,
   "id": "0930f1b3",
   "metadata": {},
   "outputs": [],
   "source": [
    "import pandas as pd\n",
    "import numpy as np\n",
    "from sklearn.model_selection import train_test_split"
   ]
  },
  {
   "cell_type": "code",
   "execution_count": 2,
   "id": "bbf1bad8",
   "metadata": {},
   "outputs": [],
   "source": [
    "data1 = pd.read_csv('train.csv')"
   ]
  },
  {
   "cell_type": "code",
   "execution_count": 3,
   "id": "d2e2307e",
   "metadata": {},
   "outputs": [],
   "source": [
    "data2 = pd.read_csv('train2.csv')"
   ]
  },
  {
   "cell_type": "code",
   "execution_count": 4,
   "id": "f5fbc3cb",
   "metadata": {
    "collapsed": true
   },
   "outputs": [
    {
     "data": {
      "text/plain": [
       "Genre\n",
       "Rock          121404\n",
       "Pop           108714\n",
       "Metal          20291\n",
       "Jazz           13545\n",
       "Folk            8644\n",
       "Indie           8449\n",
       "R&B             2793\n",
       "Hip-Hop         2240\n",
       "Electronic      2213\n",
       "Country         1890\n",
       "dtype: int64"
      ]
     },
     "execution_count": 4,
     "metadata": {},
     "output_type": "execute_result"
    }
   ],
   "source": [
    "data1.value_counts('Genre') #so imbalanced"
   ]
  },
  {
   "cell_type": "code",
   "execution_count": 5,
   "id": "7fd23cec",
   "metadata": {
    "collapsed": true
   },
   "outputs": [
    {
     "data": {
      "text/html": [
       "<div>\n",
       "<style scoped>\n",
       "    .dataframe tbody tr th:only-of-type {\n",
       "        vertical-align: middle;\n",
       "    }\n",
       "\n",
       "    .dataframe tbody tr th {\n",
       "        vertical-align: top;\n",
       "    }\n",
       "\n",
       "    .dataframe thead th {\n",
       "        text-align: right;\n",
       "    }\n",
       "</style>\n",
       "<table border=\"1\" class=\"dataframe\">\n",
       "  <thead>\n",
       "    <tr style=\"text-align: right;\">\n",
       "      <th></th>\n",
       "      <th>Artist</th>\n",
       "      <th>Song</th>\n",
       "      <th>Genre</th>\n",
       "      <th>Language</th>\n",
       "      <th>Lyrics</th>\n",
       "    </tr>\n",
       "  </thead>\n",
       "  <tbody>\n",
       "    <tr>\n",
       "      <th>0</th>\n",
       "      <td>12 stones</td>\n",
       "      <td>world so cold</td>\n",
       "      <td>Rock</td>\n",
       "      <td>en</td>\n",
       "      <td>It starts with pain, followed by hate\\nFueled ...</td>\n",
       "    </tr>\n",
       "    <tr>\n",
       "      <th>1</th>\n",
       "      <td>12 stones</td>\n",
       "      <td>broken</td>\n",
       "      <td>Rock</td>\n",
       "      <td>en</td>\n",
       "      <td>Freedom!\\nAlone again again alone\\nPatiently w...</td>\n",
       "    </tr>\n",
       "    <tr>\n",
       "      <th>2</th>\n",
       "      <td>12 stones</td>\n",
       "      <td>3 leaf loser</td>\n",
       "      <td>Rock</td>\n",
       "      <td>en</td>\n",
       "      <td>Biting the hand that feeds you, lying to the v...</td>\n",
       "    </tr>\n",
       "    <tr>\n",
       "      <th>3</th>\n",
       "      <td>12 stones</td>\n",
       "      <td>anthem for the underdog</td>\n",
       "      <td>Rock</td>\n",
       "      <td>en</td>\n",
       "      <td>You say you know just who I am\\nBut you can't ...</td>\n",
       "    </tr>\n",
       "    <tr>\n",
       "      <th>4</th>\n",
       "      <td>12 stones</td>\n",
       "      <td>adrenaline</td>\n",
       "      <td>Rock</td>\n",
       "      <td>en</td>\n",
       "      <td>My heart is beating faster can't control these...</td>\n",
       "    </tr>\n",
       "  </tbody>\n",
       "</table>\n",
       "</div>"
      ],
      "text/plain": [
       "      Artist                     Song Genre Language  \\\n",
       "0  12 stones            world so cold  Rock       en   \n",
       "1  12 stones                   broken  Rock       en   \n",
       "2  12 stones             3 leaf loser  Rock       en   \n",
       "3  12 stones  anthem for the underdog  Rock       en   \n",
       "4  12 stones               adrenaline  Rock       en   \n",
       "\n",
       "                                              Lyrics  \n",
       "0  It starts with pain, followed by hate\\nFueled ...  \n",
       "1  Freedom!\\nAlone again again alone\\nPatiently w...  \n",
       "2  Biting the hand that feeds you, lying to the v...  \n",
       "3  You say you know just who I am\\nBut you can't ...  \n",
       "4  My heart is beating faster can't control these...  "
      ]
     },
     "execution_count": 5,
     "metadata": {},
     "output_type": "execute_result"
    }
   ],
   "source": [
    "data1.head()"
   ]
  },
  {
   "cell_type": "code",
   "execution_count": 6,
   "id": "f7fa185c",
   "metadata": {
    "collapsed": true
   },
   "outputs": [
    {
     "data": {
      "text/html": [
       "<div>\n",
       "<style scoped>\n",
       "    .dataframe tbody tr th:only-of-type {\n",
       "        vertical-align: middle;\n",
       "    }\n",
       "\n",
       "    .dataframe tbody tr th {\n",
       "        vertical-align: top;\n",
       "    }\n",
       "\n",
       "    .dataframe thead th {\n",
       "        text-align: right;\n",
       "    }\n",
       "</style>\n",
       "<table border=\"1\" class=\"dataframe\">\n",
       "  <thead>\n",
       "    <tr style=\"text-align: right;\">\n",
       "      <th></th>\n",
       "      <th>Lyric</th>\n",
       "      <th>Genre0</th>\n",
       "    </tr>\n",
       "  </thead>\n",
       "  <tbody>\n",
       "    <tr>\n",
       "      <th>0</th>\n",
       "      <td>sweet as a jizzabell dancing on your tongue. l...</td>\n",
       "      <td>Pop</td>\n",
       "    </tr>\n",
       "    <tr>\n",
       "      <th>1</th>\n",
       "      <td>demon hunter - fading away. it’s in this wake ...</td>\n",
       "      <td>Heavy Metal</td>\n",
       "    </tr>\n",
       "    <tr>\n",
       "      <th>2</th>\n",
       "      <td>what if they steal my skateboard?. what if the...</td>\n",
       "      <td>Rock</td>\n",
       "    </tr>\n",
       "    <tr>\n",
       "      <th>3</th>\n",
       "      <td>(mcdaniels). i say hey mona. oh mona. i say ye...</td>\n",
       "      <td>Rock</td>\n",
       "    </tr>\n",
       "    <tr>\n",
       "      <th>4</th>\n",
       "      <td>i went down to the (?????). didn't really know...</td>\n",
       "      <td>Pop</td>\n",
       "    </tr>\n",
       "  </tbody>\n",
       "</table>\n",
       "</div>"
      ],
      "text/plain": [
       "                                               Lyric       Genre0\n",
       "0  sweet as a jizzabell dancing on your tongue. l...          Pop\n",
       "1  demon hunter - fading away. it’s in this wake ...  Heavy Metal\n",
       "2  what if they steal my skateboard?. what if the...         Rock\n",
       "3  (mcdaniels). i say hey mona. oh mona. i say ye...         Rock\n",
       "4  i went down to the (?????). didn't really know...          Pop"
      ]
     },
     "execution_count": 6,
     "metadata": {},
     "output_type": "execute_result"
    }
   ],
   "source": [
    "data2.head()"
   ]
  },
  {
   "cell_type": "code",
   "execution_count": 7,
   "id": "81609394",
   "metadata": {},
   "outputs": [],
   "source": [
    "def cleaning(data):\n",
    "    data[\"Lyrics\"] = data['Lyrics'].str.lower()\n",
    "    data[\"Lyrics\"] = data['Lyrics'].str.replace(':','')\n",
    "    data[\"Lyrics\"] = data['Lyrics'].str.replace(',','')\n",
    "    data[\"Lyrics\"] = data['Lyrics'].str.replace('chorus','')\n",
    "    data[\"Lyrics\"] = data['Lyrics'].str.replace('verse','')\n",
    "    data = data.replace({'\\n': ' '}, regex=True)\n",
    "    data = data.replace({'\\?': ''}, regex=True)\n",
    "    data = data.replace({'\\[': ''}, regex=True)\n",
    "    data = data.replace({'\\]': ''}, regex=True)\n",
    "    data = data.replace({'\\(': ''}, regex=True)\n",
    "    data = data.replace({'\\)': ''}, regex=True)\n",
    "    \n",
    "    return data"
   ]
  },
  {
   "cell_type": "code",
   "execution_count": 8,
   "id": "85d2755d",
   "metadata": {},
   "outputs": [],
   "source": [
    "def preProcessing1(realdata):\n",
    "    realdata.drop('Artist', inplace=True, axis=1)\n",
    "    realdata.drop('Song', inplace=True, axis=1)\n",
    "\n",
    "    data2 = realdata[realdata['Genre'].isin(['Rock', 'Pop', 'Hip-Hop', 'Indie', 'Jazz'])]\n",
    "    data2 = data2.loc[data2['Language'] == 'en']\n",
    "    \n",
    "    data2.drop('Language', inplace=True, axis=1)\n",
    "    \n",
    "    data2 = cleaning(data2)\n",
    "    \n",
    "    return data2\n"
   ]
  },
  {
   "cell_type": "code",
   "execution_count": 9,
   "id": "2621dd6e",
   "metadata": {
    "collapsed": true
   },
   "outputs": [
    {
     "data": {
      "text/plain": [
       "Genre\n",
       "Rock          121404\n",
       "Pop           108714\n",
       "Metal          20291\n",
       "Jazz           13545\n",
       "Folk            8644\n",
       "Indie           8449\n",
       "R&B             2793\n",
       "Hip-Hop         2240\n",
       "Electronic      2213\n",
       "Country         1890\n",
       "dtype: int64"
      ]
     },
     "execution_count": 9,
     "metadata": {},
     "output_type": "execute_result"
    }
   ],
   "source": [
    "data1.value_counts('Genre')"
   ]
  },
  {
   "cell_type": "code",
   "execution_count": 10,
   "id": "2ec60683",
   "metadata": {},
   "outputs": [],
   "source": [
    "data1 = preProcessing1(data1)"
   ]
  },
  {
   "cell_type": "code",
   "execution_count": 11,
   "id": "86491287",
   "metadata": {
    "scrolled": true
   },
   "outputs": [],
   "source": [
    "data1 = data1.dropna()\n",
    "data2 = data2.dropna()"
   ]
  },
  {
   "cell_type": "code",
   "execution_count": 12,
   "id": "01157ffe",
   "metadata": {},
   "outputs": [],
   "source": [
    "data2 = data2.rename(columns = {'Genre0': 'Genre', 'Lyric': 'Lyrics'})"
   ]
  },
  {
   "cell_type": "code",
   "execution_count": 13,
   "id": "432786e8",
   "metadata": {
    "collapsed": true
   },
   "outputs": [
    {
     "data": {
      "text/plain": [
       "Genre\n",
       "Rock           18971\n",
       "Pop            11227\n",
       "Hip-Hop         8843\n",
       "Indie           5130\n",
       "Heavy Metal     2729\n",
       "Dance           1593\n",
       "dtype: int64"
      ]
     },
     "execution_count": 13,
     "metadata": {},
     "output_type": "execute_result"
    }
   ],
   "source": [
    "data2.value_counts('Genre')"
   ]
  },
  {
   "cell_type": "code",
   "execution_count": 14,
   "id": "2135d393",
   "metadata": {},
   "outputs": [],
   "source": [
    "data2 = data2[data2['Genre'].isin(['Rock', 'Pop', 'Hip-Hop', 'Indie'])]"
   ]
  },
  {
   "cell_type": "code",
   "execution_count": 15,
   "id": "70493e58",
   "metadata": {
    "collapsed": true
   },
   "outputs": [
    {
     "data": {
      "text/html": [
       "<div>\n",
       "<style scoped>\n",
       "    .dataframe tbody tr th:only-of-type {\n",
       "        vertical-align: middle;\n",
       "    }\n",
       "\n",
       "    .dataframe tbody tr th {\n",
       "        vertical-align: top;\n",
       "    }\n",
       "\n",
       "    .dataframe thead th {\n",
       "        text-align: right;\n",
       "    }\n",
       "</style>\n",
       "<table border=\"1\" class=\"dataframe\">\n",
       "  <thead>\n",
       "    <tr style=\"text-align: right;\">\n",
       "      <th></th>\n",
       "      <th>Genre</th>\n",
       "      <th>Lyrics</th>\n",
       "    </tr>\n",
       "  </thead>\n",
       "  <tbody>\n",
       "    <tr>\n",
       "      <th>0</th>\n",
       "      <td>Rock</td>\n",
       "      <td>it starts with pain followed by hate fueled by...</td>\n",
       "    </tr>\n",
       "    <tr>\n",
       "      <th>1</th>\n",
       "      <td>Rock</td>\n",
       "      <td>freedom! alone again again alone patiently wai...</td>\n",
       "    </tr>\n",
       "    <tr>\n",
       "      <th>2</th>\n",
       "      <td>Rock</td>\n",
       "      <td>biting the hand that feeds you lying to the vo...</td>\n",
       "    </tr>\n",
       "    <tr>\n",
       "      <th>3</th>\n",
       "      <td>Rock</td>\n",
       "      <td>you say you know just who i am but you can't i...</td>\n",
       "    </tr>\n",
       "    <tr>\n",
       "      <th>4</th>\n",
       "      <td>Rock</td>\n",
       "      <td>my heart is beating faster can't control these...</td>\n",
       "    </tr>\n",
       "    <tr>\n",
       "      <th>...</th>\n",
       "      <td>...</td>\n",
       "      <td>...</td>\n",
       "    </tr>\n",
       "    <tr>\n",
       "      <th>290176</th>\n",
       "      <td>Indie</td>\n",
       "      <td>ride! ride! ride! ride! ride! ride! ride the c...</td>\n",
       "    </tr>\n",
       "    <tr>\n",
       "      <th>290179</th>\n",
       "      <td>Pop</td>\n",
       "      <td>bad boys blue \"i totally miss you\" i did you w...</td>\n",
       "    </tr>\n",
       "    <tr>\n",
       "      <th>290180</th>\n",
       "      <td>Pop</td>\n",
       "      <td>forgive me for the things that i never said to...</td>\n",
       "    </tr>\n",
       "    <tr>\n",
       "      <th>290181</th>\n",
       "      <td>Indie</td>\n",
       "      <td>the day they found a cure for aids the day the...</td>\n",
       "    </tr>\n",
       "    <tr>\n",
       "      <th>290182</th>\n",
       "      <td>Pop</td>\n",
       "      <td>fourth of july has come it's custom that we go...</td>\n",
       "    </tr>\n",
       "  </tbody>\n",
       "</table>\n",
       "<p>216235 rows × 2 columns</p>\n",
       "</div>"
      ],
      "text/plain": [
       "        Genre                                             Lyrics\n",
       "0        Rock  it starts with pain followed by hate fueled by...\n",
       "1        Rock  freedom! alone again again alone patiently wai...\n",
       "2        Rock  biting the hand that feeds you lying to the vo...\n",
       "3        Rock  you say you know just who i am but you can't i...\n",
       "4        Rock  my heart is beating faster can't control these...\n",
       "...       ...                                                ...\n",
       "290176  Indie  ride! ride! ride! ride! ride! ride! ride the c...\n",
       "290179    Pop  bad boys blue \"i totally miss you\" i did you w...\n",
       "290180    Pop  forgive me for the things that i never said to...\n",
       "290181  Indie  the day they found a cure for aids the day the...\n",
       "290182    Pop  fourth of july has come it's custom that we go...\n",
       "\n",
       "[216235 rows x 2 columns]"
      ]
     },
     "execution_count": 15,
     "metadata": {},
     "output_type": "execute_result"
    }
   ],
   "source": [
    "data1"
   ]
  },
  {
   "cell_type": "code",
   "execution_count": 16,
   "id": "cdff44a9",
   "metadata": {
    "scrolled": true
   },
   "outputs": [
    {
     "data": {
      "text/plain": [
       "Genre\n",
       "Rock       18971\n",
       "Pop        11227\n",
       "Hip-Hop     8843\n",
       "Indie       5130\n",
       "dtype: int64"
      ]
     },
     "execution_count": 16,
     "metadata": {},
     "output_type": "execute_result"
    }
   ],
   "source": [
    "data2.value_counts('Genre')"
   ]
  },
  {
   "cell_type": "code",
   "execution_count": 17,
   "id": "cd7352d3",
   "metadata": {},
   "outputs": [],
   "source": [
    "data2 = cleaning(data2)"
   ]
  },
  {
   "cell_type": "code",
   "execution_count": 18,
   "id": "1357a6a3",
   "metadata": {},
   "outputs": [],
   "source": [
    "alldata = pd.concat([data1, data2])"
   ]
  },
  {
   "cell_type": "code",
   "execution_count": 19,
   "id": "4740fd35",
   "metadata": {
    "scrolled": true
   },
   "outputs": [
    {
     "data": {
      "text/plain": [
       "Genre\n",
       "Rock       126116\n",
       "Pop         97525\n",
       "Jazz        13314\n",
       "Indie       12370\n",
       "Hip-Hop     11081\n",
       "dtype: int64"
      ]
     },
     "execution_count": 19,
     "metadata": {},
     "output_type": "execute_result"
    }
   ],
   "source": [
    "alldata.value_counts('Genre')"
   ]
  },
  {
   "cell_type": "code",
   "execution_count": 20,
   "id": "ed6dba28",
   "metadata": {},
   "outputs": [],
   "source": [
    "division = int(alldata.value_counts('Genre')[0] /7) \n",
    "division2 = int(alldata.value_counts('Genre')[1] /5)"
   ]
  },
  {
   "cell_type": "code",
   "execution_count": 21,
   "id": "12525756",
   "metadata": {
    "scrolled": true
   },
   "outputs": [],
   "source": [
    "rockdata = alldata.loc[alldata['Genre'] == 'Rock'].sample(n = division)\n",
    "popdata = alldata.loc[alldata['Genre'] == 'Pop'].sample(n = division2)"
   ]
  },
  {
   "cell_type": "code",
   "execution_count": 22,
   "id": "c68b36c6",
   "metadata": {
    "collapsed": true
   },
   "outputs": [
    {
     "data": {
      "text/html": [
       "<div>\n",
       "<style scoped>\n",
       "    .dataframe tbody tr th:only-of-type {\n",
       "        vertical-align: middle;\n",
       "    }\n",
       "\n",
       "    .dataframe tbody tr th {\n",
       "        vertical-align: top;\n",
       "    }\n",
       "\n",
       "    .dataframe thead th {\n",
       "        text-align: right;\n",
       "    }\n",
       "</style>\n",
       "<table border=\"1\" class=\"dataframe\">\n",
       "  <thead>\n",
       "    <tr style=\"text-align: right;\">\n",
       "      <th></th>\n",
       "      <th>Genre</th>\n",
       "      <th>Lyrics</th>\n",
       "    </tr>\n",
       "  </thead>\n",
       "  <tbody>\n",
       "    <tr>\n",
       "      <th>178383</th>\n",
       "      <td>Pop</td>\n",
       "      <td>there's a feeling about myself that i can't un...</td>\n",
       "    </tr>\n",
       "    <tr>\n",
       "      <th>255893</th>\n",
       "      <td>Pop</td>\n",
       "      <td>christmas tells me a little music and some lig...</td>\n",
       "    </tr>\n",
       "    <tr>\n",
       "      <th>74445</th>\n",
       "      <td>Pop</td>\n",
       "      <td>chris brown talks yeah i think i know who you ...</td>\n",
       "    </tr>\n",
       "    <tr>\n",
       "      <th>20318</th>\n",
       "      <td>Pop</td>\n",
       "      <td>what's it been over a decade. it still smarts ...</td>\n",
       "    </tr>\n",
       "    <tr>\n",
       "      <th>244401</th>\n",
       "      <td>Pop</td>\n",
       "      <td>and i will flail under these lights that seep ...</td>\n",
       "    </tr>\n",
       "    <tr>\n",
       "      <th>...</th>\n",
       "      <td>...</td>\n",
       "      <td>...</td>\n",
       "    </tr>\n",
       "    <tr>\n",
       "      <th>113630</th>\n",
       "      <td>Pop</td>\n",
       "      <td>rock me baby rock me rock me rock me baby rock...</td>\n",
       "    </tr>\n",
       "    <tr>\n",
       "      <th>212948</th>\n",
       "      <td>Pop</td>\n",
       "      <td>it's sad to think we're not gonna make it and ...</td>\n",
       "    </tr>\n",
       "    <tr>\n",
       "      <th>114416</th>\n",
       "      <td>Pop</td>\n",
       "      <td>tonight there's gonna be a whole lot of smoke ...</td>\n",
       "    </tr>\n",
       "    <tr>\n",
       "      <th>140625</th>\n",
       "      <td>Pop</td>\n",
       "      <td>heaven help the soul that's severed from the p...</td>\n",
       "    </tr>\n",
       "    <tr>\n",
       "      <th>75454</th>\n",
       "      <td>Pop</td>\n",
       "      <td>1 never felt like this before girl when you w...</td>\n",
       "    </tr>\n",
       "  </tbody>\n",
       "</table>\n",
       "<p>19505 rows × 2 columns</p>\n",
       "</div>"
      ],
      "text/plain": [
       "       Genre                                             Lyrics\n",
       "178383   Pop  there's a feeling about myself that i can't un...\n",
       "255893   Pop  christmas tells me a little music and some lig...\n",
       "74445    Pop  chris brown talks yeah i think i know who you ...\n",
       "20318    Pop  what's it been over a decade. it still smarts ...\n",
       "244401   Pop  and i will flail under these lights that seep ...\n",
       "...      ...                                                ...\n",
       "113630   Pop  rock me baby rock me rock me rock me baby rock...\n",
       "212948   Pop  it's sad to think we're not gonna make it and ...\n",
       "114416   Pop  tonight there's gonna be a whole lot of smoke ...\n",
       "140625   Pop  heaven help the soul that's severed from the p...\n",
       "75454    Pop   1 never felt like this before girl when you w...\n",
       "\n",
       "[19505 rows x 2 columns]"
      ]
     },
     "execution_count": 22,
     "metadata": {},
     "output_type": "execute_result"
    }
   ],
   "source": [
    "popdata"
   ]
  },
  {
   "cell_type": "code",
   "execution_count": 23,
   "id": "d1a1a93f",
   "metadata": {},
   "outputs": [],
   "source": [
    "alldata = alldata[alldata['Genre'].isin(['Hip-Hop', 'Indie', 'Jazz'])]"
   ]
  },
  {
   "cell_type": "code",
   "execution_count": 24,
   "id": "03299644",
   "metadata": {
    "collapsed": true
   },
   "outputs": [
    {
     "data": {
      "text/plain": [
       "Genre\n",
       "Pop        19505\n",
       "Rock       18016\n",
       "Jazz       13314\n",
       "Indie      12370\n",
       "Hip-Hop    11081\n",
       "dtype: int64"
      ]
     },
     "execution_count": 24,
     "metadata": {},
     "output_type": "execute_result"
    }
   ],
   "source": [
    "rockpop = pd.concat([rockdata, popdata])\n",
    "alldata = pd.concat([alldata, rockpop])\n",
    "alldata.value_counts('Genre')"
   ]
  },
  {
   "cell_type": "code",
   "execution_count": 25,
   "id": "4a87fcad",
   "metadata": {},
   "outputs": [],
   "source": [
    "train, val = train_test_split(alldata, test_size=0.1)"
   ]
  },
  {
   "cell_type": "code",
   "execution_count": 26,
   "id": "5d81916f",
   "metadata": {},
   "outputs": [],
   "source": [
    "train.to_csv('lasttrain.csv', header = True, index = False)\n",
    "val.to_csv('lastval.csv', header = True, index = False)"
   ]
  },
  {
   "cell_type": "code",
   "execution_count": 31,
   "id": "374dd8a9",
   "metadata": {
    "collapsed": true
   },
   "outputs": [
    {
     "data": {
      "text/html": [
       "<div>\n",
       "<style scoped>\n",
       "    .dataframe tbody tr th:only-of-type {\n",
       "        vertical-align: middle;\n",
       "    }\n",
       "\n",
       "    .dataframe tbody tr th {\n",
       "        vertical-align: top;\n",
       "    }\n",
       "\n",
       "    .dataframe thead th {\n",
       "        text-align: right;\n",
       "    }\n",
       "</style>\n",
       "<table border=\"1\" class=\"dataframe\">\n",
       "  <thead>\n",
       "    <tr style=\"text-align: right;\">\n",
       "      <th></th>\n",
       "      <th>Genre</th>\n",
       "      <th>Lyrics</th>\n",
       "    </tr>\n",
       "  </thead>\n",
       "  <tbody>\n",
       "    <tr>\n",
       "      <th>3208</th>\n",
       "      <td>Indie</td>\n",
       "      <td>leave now while you can 'cause growing old jus...</td>\n",
       "    </tr>\n",
       "    <tr>\n",
       "      <th>3209</th>\n",
       "      <td>Indie</td>\n",
       "      <td>we've been poisoned tracked down herded to sta...</td>\n",
       "    </tr>\n",
       "    <tr>\n",
       "      <th>3210</th>\n",
       "      <td>Indie</td>\n",
       "      <td>the needle's in hand but i cannot sew. my hear...</td>\n",
       "    </tr>\n",
       "    <tr>\n",
       "      <th>3211</th>\n",
       "      <td>Indie</td>\n",
       "      <td>i catch every whisper surrounding your head yo...</td>\n",
       "    </tr>\n",
       "    <tr>\n",
       "      <th>3212</th>\n",
       "      <td>Indie</td>\n",
       "      <td>get off of work come home pass out. my life's ...</td>\n",
       "    </tr>\n",
       "    <tr>\n",
       "      <th>...</th>\n",
       "      <td>...</td>\n",
       "      <td>...</td>\n",
       "    </tr>\n",
       "    <tr>\n",
       "      <th>113630</th>\n",
       "      <td>Pop</td>\n",
       "      <td>rock me baby rock me rock me rock me baby rock...</td>\n",
       "    </tr>\n",
       "    <tr>\n",
       "      <th>212948</th>\n",
       "      <td>Pop</td>\n",
       "      <td>it's sad to think we're not gonna make it and ...</td>\n",
       "    </tr>\n",
       "    <tr>\n",
       "      <th>114416</th>\n",
       "      <td>Pop</td>\n",
       "      <td>tonight there's gonna be a whole lot of smoke ...</td>\n",
       "    </tr>\n",
       "    <tr>\n",
       "      <th>140625</th>\n",
       "      <td>Pop</td>\n",
       "      <td>heaven help the soul that's severed from the p...</td>\n",
       "    </tr>\n",
       "    <tr>\n",
       "      <th>75454</th>\n",
       "      <td>Pop</td>\n",
       "      <td>1 never felt like this before girl when you w...</td>\n",
       "    </tr>\n",
       "  </tbody>\n",
       "</table>\n",
       "<p>74286 rows × 2 columns</p>\n",
       "</div>"
      ],
      "text/plain": [
       "        Genre                                             Lyrics\n",
       "3208    Indie  leave now while you can 'cause growing old jus...\n",
       "3209    Indie  we've been poisoned tracked down herded to sta...\n",
       "3210    Indie  the needle's in hand but i cannot sew. my hear...\n",
       "3211    Indie  i catch every whisper surrounding your head yo...\n",
       "3212    Indie  get off of work come home pass out. my life's ...\n",
       "...       ...                                                ...\n",
       "113630    Pop  rock me baby rock me rock me rock me baby rock...\n",
       "212948    Pop  it's sad to think we're not gonna make it and ...\n",
       "114416    Pop  tonight there's gonna be a whole lot of smoke ...\n",
       "140625    Pop  heaven help the soul that's severed from the p...\n",
       "75454     Pop   1 never felt like this before girl when you w...\n",
       "\n",
       "[74286 rows x 2 columns]"
      ]
     },
     "execution_count": 31,
     "metadata": {},
     "output_type": "execute_result"
    }
   ],
   "source": [
    "alldata"
   ]
  },
  {
   "cell_type": "code",
   "execution_count": 29,
   "id": "e2cf8f37",
   "metadata": {},
   "outputs": [],
   "source": [
    "alldata.to_csv('alldata.csv', header=True, index=False)"
   ]
  },
  {
   "cell_type": "code",
   "execution_count": null,
   "id": "76f5a2f7",
   "metadata": {},
   "outputs": [],
   "source": [
    "    "
   ]
  }
 ],
 "metadata": {
  "kernelspec": {
   "display_name": "Python 3 (ipykernel)",
   "language": "python",
   "name": "python3"
  },
  "language_info": {
   "codemirror_mode": {
    "name": "ipython",
    "version": 3
   },
   "file_extension": ".py",
   "mimetype": "text/x-python",
   "name": "python",
   "nbconvert_exporter": "python",
   "pygments_lexer": "ipython3",
   "version": "3.9.7"
  }
 },
 "nbformat": 4,
 "nbformat_minor": 5
}
